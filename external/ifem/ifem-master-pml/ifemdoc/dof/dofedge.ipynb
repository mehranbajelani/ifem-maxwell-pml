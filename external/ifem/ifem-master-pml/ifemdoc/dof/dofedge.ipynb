{
 "cells": [
  {
   "cell_type": "markdown",
   "metadata": {},
   "source": [
    "# DoF on Edges in Two Dimensions\n",
    "\n",
    "We describe general idea of the data structures generated in subroutine \n",
    "`dofedge` for two dimensional triangular grids. We refer to [Simplicial Complex in Two Dimensions](../mesh/sc.html) for the discussion of ordering and orientation of edges."
   ]
  },
  {
   "cell_type": "markdown",
   "metadata": {},
   "source": [
    "`[elem2edge,edge,elem2edgeSign,edgeSign] = dofedge(elem)` constructs data structure for finite elements associated to edges including CR nonconforming element, Ravairt-Thomas element, and Nedelec element etc.\n",
    " \n",
    "In the output\n",
    "\n",
    "-`elem2edge`: the elementwise pointer from `elem` to `edge`. In each triangle, the opposite indexing is used for its three edges, e.g., `elem2edge(t,1)` is the global index of the first edge consisting of vertices `[2 3]` of triangle `t`.\n",
    " \n",
    "-`edge`: the edge matrix is sorted s.t. `edge(:,1)<edge(:,2)`. The orientation of edge is induced by the ascend ordering of vertices.\n",
    " \n",
    "-`elem2edgeSign`: records the consistency of the local edge `locEdge = [2 3; 3 1; 1 2]` and the global edge orientation. \n",
    "\n",
    "  `elem2edgeSign = -1` if the local edge orientation is inconsistent with the global one, i.e. `elem(:,locEdge(:,1)) > elem(:,locEdge(:,2))`. \n",
    "  \n",
    "  When both `elem` and local edges are ascend ordered (i.e. `locEdge = [2 3; 1 3; 1 2]` and `elem(:,1)<elem(:,2)<elem(:,3)` ), `elem2edgeSign = [1 1 1]`. In this case, no need to use `elem2edgeSign`. \n",
    "  \n",
    "  When `elem` is the ascend ordering and `locEdge = [2 3; 3 1; 1 2]` is the induced ordering, then `elem2edgeSign = [1 -1 1]`, i.e., only the 2nd edge `[3 1]` is inconsistent. In this case, the pattern is also known and no need to call `dofedge`.\n",
    " \n",
    "-`edgeSign`: As the lcoal edge is the induced ordering, one interior edge will be shared by two triangles with opposite orientation. `edgeSign = 1` if the edge is consistent with the local edge of its first element, equals `-1` otherwise. \n",
    "\n",
    "See also `dof3edge`, `dof3face`"
   ]
  },
  {
   "cell_type": "markdown",
   "metadata": {},
   "source": [
    "## Example"
   ]
  },
  {
   "cell_type": "code",
   "execution_count": 1,
   "metadata": {},
   "outputs": [
    {
     "name": "stdout",
     "output_type": "stream",
     "text": [
      "\n",
      "elem =\n",
      "\n",
      "     4     5     1\n",
      "     5     6     2\n",
      "     7     8     4\n",
      "     8     9     5\n",
      "     2     1     5\n",
      "     3     2     6\n",
      "     5     4     8\n",
      "     6     5     9\n",
      "\n",
      "\n",
      "elem2edge =\n",
      "\n",
      "  8�3 uint32 matrix\n",
      "\n",
      "    3    2    8\n",
      "    6    5   11\n",
      "   10    9   15\n",
      "   13   12   16\n",
      "    3    5    1\n",
      "    6    7    4\n",
      "   10   12    8\n",
      "   13   14   11\n",
      "\n",
      "\n",
      "edge =\n",
      "\n",
      "  16�2 uint32 matrix\n",
      "\n",
      "   1   2\n",
      "   1   4\n",
      "   1   5\n",
      "   2   3\n",
      "   2   5\n",
      "   2   6\n",
      "   3   6\n",
      "   4   5\n",
      "   4   7\n",
      "   4   8\n",
      "   5   6\n",
      "   5   8\n",
      "   5   9\n",
      "   6   9\n",
      "   7   8\n",
      "   8   9\n",
      "\n"
     ]
    },
    {
     "data": {
      "image/png": "[encoded data removed]",
      "text/plain": [
       "<IPython.core.display.Image object>"
      ]
     },
     "metadata": {},
     "output_type": "display_data"
    }
   ],
   "source": [
    "% Generate edge and elem2dof\n",
    "[node,elem] = squaremesh([0,1,0,1],1/2);\n",
    "T = auxstructure(elem);\n",
    "elem2edge = T.elem2edge;\n",
    "edge = T.edge;\n",
    "edge2elem = T.edge2elem;\n",
    "\n",
    "showmesh(node,elem);\n",
    "findnode(node,'all');\n",
    "findelem(node,elem,'all');\n",
    "findedge(node,edge,'all','vec');\n",
    "\n",
    "display(elem);\n",
    "display(elem2edge);\n",
    "display(edge);"
   ]
  },
  {
   "cell_type": "code",
   "execution_count": 5,
   "metadata": {},
   "outputs": [
    {
     "name": "stdout",
     "output_type": "stream",
     "text": [
      "\n",
      "elem2edgeSign =\n",
      "\n",
      "    -1     1     1\n",
      "    -1     1     1\n",
      "    -1     1     1\n",
      "    -1     1     1\n",
      "     1    -1    -1\n",
      "     1    -1    -1\n",
      "     1    -1    -1\n",
      "     1    -1    -1\n",
      "\n"
     ]
    }
   ],
   "source": [
    "NT = size(elem,1); NE = size(edge,1);\n",
    "elem2edgeSign = ones(NT,3);\n",
    "totalEdge = uint32([elem(:,[2,3]); elem(:,[3,1]); elem(:,[1,2])]);\n",
    "idx = (totalEdge(:,1)>totalEdge(:,2));\n",
    "elem2edgeSign(idx) = -1;\n",
    "\n",
    "display(elem2edgeSign);"
   ]
  }
 ],
 "metadata": {
  "kernelspec": {
   "display_name": "Matlab",
   "language": "matlab",
   "name": "matlab"
  },
  "language_info": {
   "codemirror_mode": "octave",
   "file_extension": ".m",
   "help_links": [
    {
     "text": "MetaKernel Magics",
     "url": "https://github.com/calysto/metakernel/blob/master/metakernel/magics/README.md"
    }
   ],
   "mimetype": "text/x-matlab",
   "name": "matlab",
   "version": "0.14.3"
  },
  "toc": {
   "colors": {
    "hover_highlight": "#DAA520",
    "navigate_num": "#000000",
    "navigate_text": "#333333",
    "running_highlight": "#FF0000",
    "selected_highlight": "#FFD700",
    "sidebar_border": "#EEEEEE",
    "wrapper_background": "#FFFFFF"
   },
   "moveMenuLeft": true,
   "nav_menu": {
    "height": "48px",
    "width": "252px"
   },
   "navigate_menu": true,
   "number_sections": true,
   "sideBar": true,
   "threshold": 4,
   "toc_cell": false,
   "toc_section_display": "block",
   "toc_window_display": false,
   "widenNotebook": false
  }
 },
 "nbformat": 4,
 "nbformat_minor": 5
}
